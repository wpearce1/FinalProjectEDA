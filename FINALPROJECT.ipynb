{
 "cells": [
  {
   "cell_type": "markdown",
   "metadata": {},
   "source": [
    "My goal is to see if US treasury Bonds, GDP and Stock Market Volatility have predictive power on stock market returns. \n",
    "\n",
    "I am able to pull the data I need I am just not able to merge all of the data into the same dataframe. Below resides daily pricing data for the SP500, US treasury Bonds, the quarterly % change in US GDP, and the VIX volatility index along with associated EDA for each dataset."
   ]
  },
  {
   "cell_type": "code",
   "execution_count": 4,
   "metadata": {},
   "outputs": [],
   "source": [
    "from iexfinance import get_historical_data\n",
    "import pandas as pd\n",
    "import numpy as np\n",
    "import datetime\n",
    "import matplotlib.pyplot as plt\n",
    "import seaborn as sns\n",
    "\n",
    "plt.style.use('fivethirtyeight')\n",
    "\n",
    "from sklearn.linear_model import LinearRegression\n",
    "from sklearn import preprocessing, svm\n",
    "from sklearn.model_selection import train_test_split"
   ]
  },
  {
   "cell_type": "code",
   "execution_count": 18,
   "metadata": {},
   "outputs": [],
   "source": [
    "#Using the free IEX stock returns data, Pull daily returns of the S&P500 (using the ETF spy as a proxy)\n",
    "\n",
    "ticker = 'SPY'\n",
    "start_date='2015-01-01'\n",
    "end_date='2018-10-26'\n",
    "## start_date = pd.to_datetime(start_date)\n",
    "## end_date = pd.to_datetime(end_date)\n",
    " \n",
    "px_data = (get_historical_data(ticker, start=start_date, end=end_date, output_format='pandas'))\n",
    "px_data = pd.DataFrame(px_data)\n"
   ]
  },
  {
   "cell_type": "code",
   "execution_count": 16,
   "metadata": {
    "scrolled": true
   },
   "outputs": [
    {
     "ename": "AttributeError",
     "evalue": "'dict' object has no attribute 'head'",
     "output_type": "error",
     "traceback": [
      "\u001b[1;31m---------------------------------------------------------------------------\u001b[0m",
      "\u001b[1;31mAttributeError\u001b[0m                            Traceback (most recent call last)",
      "\u001b[1;32m<ipython-input-16-0dac72b8fdc4>\u001b[0m in \u001b[0;36m<module>\u001b[1;34m()\u001b[0m\n\u001b[1;32m----> 1\u001b[1;33m \u001b[0mpx_data\u001b[0m\u001b[1;33m.\u001b[0m\u001b[0mhead\u001b[0m\u001b[1;33m(\u001b[0m\u001b[1;33m)\u001b[0m\u001b[1;33m\u001b[0m\u001b[0m\n\u001b[0m",
      "\u001b[1;31mAttributeError\u001b[0m: 'dict' object has no attribute 'head'"
     ]
    }
   ],
   "source": [
    "px_data.head()"
   ]
  },
  {
   "cell_type": "code",
   "execution_count": 77,
   "metadata": {},
   "outputs": [
    {
     "data": {
      "text/plain": [
       "open      float64\n",
       "high      float64\n",
       "low       float64\n",
       "close     float64\n",
       "volume      int64\n",
       "dtype: object"
      ]
     },
     "execution_count": 77,
     "metadata": {},
     "output_type": "execute_result"
    }
   ],
   "source": [
    "px_data.dtypes"
   ]
  },
  {
   "cell_type": "code",
   "execution_count": 78,
   "metadata": {},
   "outputs": [
    {
     "data": {
      "text/plain": [
       "(711, 5)"
      ]
     },
     "execution_count": 78,
     "metadata": {},
     "output_type": "execute_result"
    }
   ],
   "source": [
    "px_data.shape"
   ]
  },
  {
   "cell_type": "code",
   "execution_count": 80,
   "metadata": {},
   "outputs": [
    {
     "name": "stdout",
     "output_type": "stream",
     "text": [
      "<class 'pandas.core.frame.DataFrame'>\n",
      "Index: 711 entries, 2016-01-04 to 2018-10-26\n",
      "Data columns (total 5 columns):\n",
      "open      711 non-null float64\n",
      "high      711 non-null float64\n",
      "low       711 non-null float64\n",
      "close     711 non-null float64\n",
      "volume    711 non-null int64\n",
      "dtypes: float64(4), int64(1)\n",
      "memory usage: 53.3+ KB\n"
     ]
    }
   ],
   "source": [
    "px_data.info()"
   ]
  },
  {
   "cell_type": "code",
   "execution_count": 86,
   "metadata": {},
   "outputs": [
    {
     "data": {
      "text/html": [
       "<div>\n",
       "<style scoped>\n",
       "    .dataframe tbody tr th:only-of-type {\n",
       "        vertical-align: middle;\n",
       "    }\n",
       "\n",
       "    .dataframe tbody tr th {\n",
       "        vertical-align: top;\n",
       "    }\n",
       "\n",
       "    .dataframe thead th {\n",
       "        text-align: right;\n",
       "    }\n",
       "</style>\n",
       "<table border=\"1\" class=\"dataframe\">\n",
       "  <thead>\n",
       "    <tr style=\"text-align: right;\">\n",
       "      <th></th>\n",
       "      <th>open</th>\n",
       "      <th>high</th>\n",
       "      <th>low</th>\n",
       "      <th>close</th>\n",
       "      <th>volume</th>\n",
       "    </tr>\n",
       "  </thead>\n",
       "  <tbody>\n",
       "    <tr>\n",
       "      <th>count</th>\n",
       "      <td>711.000000</td>\n",
       "      <td>711.000000</td>\n",
       "      <td>711.000000</td>\n",
       "      <td>711.000000</td>\n",
       "      <td>7.110000e+02</td>\n",
       "    </tr>\n",
       "    <tr>\n",
       "      <th>mean</th>\n",
       "      <td>235.522852</td>\n",
       "      <td>236.444162</td>\n",
       "      <td>234.499676</td>\n",
       "      <td>235.548393</td>\n",
       "      <td>8.855829e+07</td>\n",
       "    </tr>\n",
       "    <tr>\n",
       "      <th>std</th>\n",
       "      <td>31.701673</td>\n",
       "      <td>31.770776</td>\n",
       "      <td>31.560709</td>\n",
       "      <td>31.611652</td>\n",
       "      <td>4.343941e+07</td>\n",
       "    </tr>\n",
       "    <tr>\n",
       "      <th>min</th>\n",
       "      <td>172.851600</td>\n",
       "      <td>174.520000</td>\n",
       "      <td>171.600200</td>\n",
       "      <td>173.344500</td>\n",
       "      <td>2.785651e+07</td>\n",
       "    </tr>\n",
       "    <tr>\n",
       "      <th>25%</th>\n",
       "      <td>207.604500</td>\n",
       "      <td>208.055850</td>\n",
       "      <td>206.647000</td>\n",
       "      <td>207.590100</td>\n",
       "      <td>6.013564e+07</td>\n",
       "    </tr>\n",
       "    <tr>\n",
       "      <th>50%</th>\n",
       "      <td>235.323700</td>\n",
       "      <td>236.529900</td>\n",
       "      <td>234.817900</td>\n",
       "      <td>235.119400</td>\n",
       "      <td>7.686966e+07</td>\n",
       "    </tr>\n",
       "    <tr>\n",
       "      <th>75%</th>\n",
       "      <td>264.703550</td>\n",
       "      <td>265.534050</td>\n",
       "      <td>263.239950</td>\n",
       "      <td>264.219100</td>\n",
       "      <td>1.025732e+08</td>\n",
       "    </tr>\n",
       "    <tr>\n",
       "      <th>max</th>\n",
       "      <td>293.090000</td>\n",
       "      <td>293.220000</td>\n",
       "      <td>291.810000</td>\n",
       "      <td>292.257400</td>\n",
       "      <td>3.550268e+08</td>\n",
       "    </tr>\n",
       "  </tbody>\n",
       "</table>\n",
       "</div>"
      ],
      "text/plain": [
       "             open        high         low       close        volume\n",
       "count  711.000000  711.000000  711.000000  711.000000  7.110000e+02\n",
       "mean   235.522852  236.444162  234.499676  235.548393  8.855829e+07\n",
       "std     31.701673   31.770776   31.560709   31.611652  4.343941e+07\n",
       "min    172.851600  174.520000  171.600200  173.344500  2.785651e+07\n",
       "25%    207.604500  208.055850  206.647000  207.590100  6.013564e+07\n",
       "50%    235.323700  236.529900  234.817900  235.119400  7.686966e+07\n",
       "75%    264.703550  265.534050  263.239950  264.219100  1.025732e+08\n",
       "max    293.090000  293.220000  291.810000  292.257400  3.550268e+08"
      ]
     },
     "execution_count": 86,
     "metadata": {},
     "output_type": "execute_result"
    }
   ],
   "source": [
    "px_data.describe()"
   ]
  },
  {
   "cell_type": "code",
   "execution_count": 37,
   "metadata": {},
   "outputs": [
    {
     "data": {
      "text/plain": [
       "open      0\n",
       "high      0\n",
       "low       0\n",
       "close     0\n",
       "volume    0\n",
       "dtype: int64"
      ]
     },
     "execution_count": 37,
     "metadata": {},
     "output_type": "execute_result"
    }
   ],
   "source": [
    "px_data.isnull().sum()\n",
    "\n",
    "## There is no missing data within the data set"
   ]
  },
  {
   "cell_type": "code",
   "execution_count": 83,
   "metadata": {},
   "outputs": [
    {
     "data": {
      "image/png": "[encoded data removed]",
      "text/plain": [
       "<Figure size 432x288 with 6 Axes>"
      ]
     },
     "metadata": {},
     "output_type": "display_data"
    }
   ],
   "source": [
    "axes = px_data.hist();"
   ]
  },
  {
   "cell_type": "code",
   "execution_count": 53,
   "metadata": {},
   "outputs": [
    {
     "data": {
      "text/plain": [
       "<matplotlib.axes._subplots.AxesSubplot at 0x1932970cf28>"
      ]
     },
     "execution_count": 53,
     "metadata": {},
     "output_type": "execute_result"
    },
    {
     "data": {
      "image/png": "[encoded data removed]",
      "text/plain": [
       "<Figure size 432x288 with 1 Axes>"
      ]
     },
     "metadata": {},
     "output_type": "display_data"
    }
   ],
   "source": [
    "px_data.close.plot()"
   ]
  },
  {
   "cell_type": "code",
   "execution_count": 59,
   "metadata": {},
   "outputs": [
    {
     "data": {
      "image/png": "[encoded data removed]",
      "text/plain": [
       "<Figure size 432x288 with 1 Axes>"
      ]
     },
     "metadata": {},
     "output_type": "display_data"
    }
   ],
   "source": [
    "px_data.plot(kind='scatter', x='volume', y='close');"
   ]
  },
  {
   "cell_type": "code",
   "execution_count": 20,
   "metadata": {},
   "outputs": [],
   "source": [
    "## Get 7-10 year treasury data \n",
    "\n",
    "ticker = 'IEF'\n",
    "start_date='2015-01-01'\n",
    "end_date='2018-10-26'\n",
    "## start_date = pd.to_datetime(start_date)\n",
    "## end_date = pd.to_datetime(end_date)\n",
    " \n",
    "bd_data = (get_historical_data(ticker, start=start_date, end=end_date, output_format='pandas'))\n",
    "bd_data = pd.DataFrame(bd_data)"
   ]
  },
  {
   "cell_type": "code",
   "execution_count": 21,
   "metadata": {},
   "outputs": [
    {
     "data": {
      "text/html": [
       "<div>\n",
       "<style scoped>\n",
       "    .dataframe tbody tr th:only-of-type {\n",
       "        vertical-align: middle;\n",
       "    }\n",
       "\n",
       "    .dataframe tbody tr th {\n",
       "        vertical-align: top;\n",
       "    }\n",
       "\n",
       "    .dataframe thead th {\n",
       "        text-align: right;\n",
       "    }\n",
       "</style>\n",
       "<table border=\"1\" class=\"dataframe\">\n",
       "  <thead>\n",
       "    <tr style=\"text-align: right;\">\n",
       "      <th></th>\n",
       "      <th>open</th>\n",
       "      <th>high</th>\n",
       "      <th>low</th>\n",
       "      <th>close</th>\n",
       "      <th>volume</th>\n",
       "    </tr>\n",
       "  </thead>\n",
       "  <tbody>\n",
       "    <tr>\n",
       "      <th>count</th>\n",
       "      <td>963.000000</td>\n",
       "      <td>963.000000</td>\n",
       "      <td>963.000000</td>\n",
       "      <td>963.000000</td>\n",
       "      <td>9.630000e+02</td>\n",
       "    </tr>\n",
       "    <tr>\n",
       "      <th>mean</th>\n",
       "      <td>102.600035</td>\n",
       "      <td>102.770239</td>\n",
       "      <td>102.438308</td>\n",
       "      <td>102.602467</td>\n",
       "      <td>2.267962e+06</td>\n",
       "    </tr>\n",
       "    <tr>\n",
       "      <th>std</th>\n",
       "      <td>2.395224</td>\n",
       "      <td>2.384589</td>\n",
       "      <td>2.399416</td>\n",
       "      <td>2.393613</td>\n",
       "      <td>1.478786e+06</td>\n",
       "    </tr>\n",
       "    <tr>\n",
       "      <th>min</th>\n",
       "      <td>97.698600</td>\n",
       "      <td>97.755000</td>\n",
       "      <td>97.445100</td>\n",
       "      <td>97.482600</td>\n",
       "      <td>4.903680e+05</td>\n",
       "    </tr>\n",
       "    <tr>\n",
       "      <th>25%</th>\n",
       "      <td>100.751700</td>\n",
       "      <td>100.890950</td>\n",
       "      <td>100.596500</td>\n",
       "      <td>100.711400</td>\n",
       "      <td>1.331534e+06</td>\n",
       "    </tr>\n",
       "    <tr>\n",
       "      <th>50%</th>\n",
       "      <td>101.919500</td>\n",
       "      <td>102.096200</td>\n",
       "      <td>101.721500</td>\n",
       "      <td>101.953700</td>\n",
       "      <td>1.852967e+06</td>\n",
       "    </tr>\n",
       "    <tr>\n",
       "      <th>75%</th>\n",
       "      <td>104.287250</td>\n",
       "      <td>104.432300</td>\n",
       "      <td>104.184850</td>\n",
       "      <td>104.299100</td>\n",
       "      <td>2.754434e+06</td>\n",
       "    </tr>\n",
       "    <tr>\n",
       "      <th>max</th>\n",
       "      <td>109.006600</td>\n",
       "      <td>109.091600</td>\n",
       "      <td>108.748000</td>\n",
       "      <td>108.987400</td>\n",
       "      <td>1.214504e+07</td>\n",
       "    </tr>\n",
       "  </tbody>\n",
       "</table>\n",
       "</div>"
      ],
      "text/plain": [
       "             open        high         low       close        volume\n",
       "count  963.000000  963.000000  963.000000  963.000000  9.630000e+02\n",
       "mean   102.600035  102.770239  102.438308  102.602467  2.267962e+06\n",
       "std      2.395224    2.384589    2.399416    2.393613  1.478786e+06\n",
       "min     97.698600   97.755000   97.445100   97.482600  4.903680e+05\n",
       "25%    100.751700  100.890950  100.596500  100.711400  1.331534e+06\n",
       "50%    101.919500  102.096200  101.721500  101.953700  1.852967e+06\n",
       "75%    104.287250  104.432300  104.184850  104.299100  2.754434e+06\n",
       "max    109.006600  109.091600  108.748000  108.987400  1.214504e+07"
      ]
     },
     "execution_count": 21,
     "metadata": {},
     "output_type": "execute_result"
    }
   ],
   "source": [
    "bd_data.describe()"
   ]
  },
  {
   "cell_type": "code",
   "execution_count": 22,
   "metadata": {},
   "outputs": [
    {
     "data": {
      "image/png": "[encoded data removed]",
      "text/plain": [
       "<Figure size 432x288 with 6 Axes>"
      ]
     },
     "metadata": {},
     "output_type": "display_data"
    }
   ],
   "source": [
    "axes = bd_data.hist();"
   ]
  },
  {
   "cell_type": "code",
   "execution_count": 23,
   "metadata": {},
   "outputs": [
    {
     "data": {
      "text/plain": [
       "<matplotlib.axes._subplots.AxesSubplot at 0x217dfa48080>"
      ]
     },
     "execution_count": 23,
     "metadata": {},
     "output_type": "execute_result"
    },
    {
     "data": {
      "image/png": "[encoded data removed]",
      "text/plain": [
       "<Figure size 432x288 with 1 Axes>"
      ]
     },
     "metadata": {},
     "output_type": "display_data"
    }
   ],
   "source": [
    "bd_data.close.plot()"
   ]
  },
  {
   "cell_type": "code",
   "execution_count": 61,
   "metadata": {},
   "outputs": [
    {
     "data": {
      "text/plain": [
       "open      0\n",
       "high      0\n",
       "low       0\n",
       "close     0\n",
       "volume    0\n",
       "dtype: int64"
      ]
     },
     "execution_count": 61,
     "metadata": {},
     "output_type": "execute_result"
    }
   ],
   "source": [
    "bd_data.isnull().sum()"
   ]
  },
  {
   "cell_type": "code",
   "execution_count": 30,
   "metadata": {},
   "outputs": [],
   "source": [
    "# Pull economic data from the St Louis Fed\n",
    "# A191RP1Q027SBEA = Quarterly US GDP, Percent Change from Preceding Period, Seasonally Adjusted Annual Rate\n",
    "import pandas as pd\n",
    "from fredapi import Fred\n",
    "fred = Fred(api_key='4c7572b1d37a258978891dc96280985b')\n",
    "gdp_pctchange = pd.DataFrame(fred.get_series('A191RP1Q027SBEA'))\n",
    "\n",
    "                             \n",
    "##gdp_pctchange = pd.DataFrame(df)\n",
    "##gdp_pctchange.columns=['date','pct % gdp']"
   ]
  },
  {
   "cell_type": "code",
   "execution_count": 32,
   "metadata": {},
   "outputs": [
    {
     "data": {
      "text/html": [
       "<div>\n",
       "<style scoped>\n",
       "    .dataframe tbody tr th:only-of-type {\n",
       "        vertical-align: middle;\n",
       "    }\n",
       "\n",
       "    .dataframe tbody tr th {\n",
       "        vertical-align: top;\n",
       "    }\n",
       "\n",
       "    .dataframe thead th {\n",
       "        text-align: right;\n",
       "    }\n",
       "</style>\n",
       "<table border=\"1\" class=\"dataframe\">\n",
       "  <thead>\n",
       "    <tr style=\"text-align: right;\">\n",
       "      <th></th>\n",
       "      <th>0</th>\n",
       "    </tr>\n",
       "  </thead>\n",
       "  <tbody>\n",
       "    <tr>\n",
       "      <th>1947-04-01</th>\n",
       "      <td>4.7</td>\n",
       "    </tr>\n",
       "    <tr>\n",
       "      <th>1947-07-01</th>\n",
       "      <td>6.0</td>\n",
       "    </tr>\n",
       "    <tr>\n",
       "      <th>1947-10-01</th>\n",
       "      <td>17.3</td>\n",
       "    </tr>\n",
       "    <tr>\n",
       "      <th>1948-01-01</th>\n",
       "      <td>9.6</td>\n",
       "    </tr>\n",
       "    <tr>\n",
       "      <th>1948-04-01</th>\n",
       "      <td>10.7</td>\n",
       "    </tr>\n",
       "  </tbody>\n",
       "</table>\n",
       "</div>"
      ],
      "text/plain": [
       "               0\n",
       "1947-04-01   4.7\n",
       "1947-07-01   6.0\n",
       "1947-10-01  17.3\n",
       "1948-01-01   9.6\n",
       "1948-04-01  10.7"
      ]
     },
     "execution_count": 32,
     "metadata": {},
     "output_type": "execute_result"
    }
   ],
   "source": [
    "gdp_pctchange.head()"
   ]
  },
  {
   "cell_type": "code",
   "execution_count": 33,
   "metadata": {},
   "outputs": [
    {
     "data": {
      "text/html": [
       "<div>\n",
       "<style scoped>\n",
       "    .dataframe tbody tr th:only-of-type {\n",
       "        vertical-align: middle;\n",
       "    }\n",
       "\n",
       "    .dataframe tbody tr th {\n",
       "        vertical-align: top;\n",
       "    }\n",
       "\n",
       "    .dataframe thead th {\n",
       "        text-align: right;\n",
       "    }\n",
       "</style>\n",
       "<table border=\"1\" class=\"dataframe\">\n",
       "  <thead>\n",
       "    <tr style=\"text-align: right;\">\n",
       "      <th></th>\n",
       "      <th>0</th>\n",
       "    </tr>\n",
       "  </thead>\n",
       "  <tbody>\n",
       "    <tr>\n",
       "      <th>count</th>\n",
       "      <td>286.000000</td>\n",
       "    </tr>\n",
       "    <tr>\n",
       "      <th>mean</th>\n",
       "      <td>6.509790</td>\n",
       "    </tr>\n",
       "    <tr>\n",
       "      <th>std</th>\n",
       "      <td>4.687951</td>\n",
       "    </tr>\n",
       "    <tr>\n",
       "      <th>min</th>\n",
       "      <td>-7.400000</td>\n",
       "    </tr>\n",
       "    <tr>\n",
       "      <th>25%</th>\n",
       "      <td>4.125000</td>\n",
       "    </tr>\n",
       "    <tr>\n",
       "      <th>50%</th>\n",
       "      <td>5.950000</td>\n",
       "    </tr>\n",
       "    <tr>\n",
       "      <th>75%</th>\n",
       "      <td>8.700000</td>\n",
       "    </tr>\n",
       "    <tr>\n",
       "      <th>max</th>\n",
       "      <td>26.800000</td>\n",
       "    </tr>\n",
       "  </tbody>\n",
       "</table>\n",
       "</div>"
      ],
      "text/plain": [
       "                0\n",
       "count  286.000000\n",
       "mean     6.509790\n",
       "std      4.687951\n",
       "min     -7.400000\n",
       "25%      4.125000\n",
       "50%      5.950000\n",
       "75%      8.700000\n",
       "max     26.800000"
      ]
     },
     "execution_count": 33,
     "metadata": {},
     "output_type": "execute_result"
    }
   ],
   "source": [
    "gdp_pctchange.describe()"
   ]
  },
  {
   "cell_type": "code",
   "execution_count": 35,
   "metadata": {},
   "outputs": [
    {
     "data": {
      "text/plain": [
       "<matplotlib.axes._subplots.AxesSubplot at 0x217df8899b0>"
      ]
     },
     "execution_count": 35,
     "metadata": {},
     "output_type": "execute_result"
    },
    {
     "data": {
      "image/png": "[encoded data removed]",
      "text/plain": [
       "<Figure size 432x288 with 1 Axes>"
      ]
     },
     "metadata": {},
     "output_type": "display_data"
    }
   ],
   "source": [
    "gdp_pctchange.plot()"
   ]
  },
  {
   "cell_type": "code",
   "execution_count": 62,
   "metadata": {},
   "outputs": [
    {
     "data": {
      "text/plain": [
       "0    0\n",
       "dtype: int64"
      ]
     },
     "execution_count": 62,
     "metadata": {},
     "output_type": "execute_result"
    }
   ],
   "source": [
    "gdp_pctchange.isnull().sum()"
   ]
  },
  {
   "cell_type": "code",
   "execution_count": 121,
   "metadata": {},
   "outputs": [
    {
     "ename": "ValueError",
     "evalue": "can not merge DataFrame with instance of type <class 'pandas.core.series.Series'>",
     "output_type": "error",
     "traceback": [
      "\u001b[1;31m---------------------------------------------------------------------------\u001b[0m",
      "\u001b[1;31mValueError\u001b[0m                                Traceback (most recent call last)",
      "\u001b[1;32m<ipython-input-121-a9b46dfbe392>\u001b[0m in \u001b[0;36m<module>\u001b[1;34m()\u001b[0m\n\u001b[0;32m      1\u001b[0m \u001b[1;31m# Merge with stock returns\u001b[0m\u001b[1;33m\u001b[0m\u001b[1;33m\u001b[0m\u001b[0m\n\u001b[1;32m----> 2\u001b[1;33m \u001b[0mcombo_df\u001b[0m \u001b[1;33m=\u001b[0m \u001b[0mpd\u001b[0m\u001b[1;33m.\u001b[0m\u001b[0mmerge\u001b[0m\u001b[1;33m(\u001b[0m\u001b[0mpx_data\u001b[0m\u001b[1;33m,\u001b[0m \u001b[0mGDP_pctchange\u001b[0m\u001b[1;33m)\u001b[0m\u001b[1;33m\u001b[0m\u001b[0m\n\u001b[0m",
      "\u001b[1;32mC:\\Users\\wpearce\\AppData\\Local\\Continuum\\anaconda3\\lib\\site-packages\\pandas\\core\\reshape\\merge.py\u001b[0m in \u001b[0;36mmerge\u001b[1;34m(left, right, how, on, left_on, right_on, left_index, right_index, sort, suffixes, copy, indicator, validate)\u001b[0m\n\u001b[0;32m     58\u001b[0m                          \u001b[0mright_index\u001b[0m\u001b[1;33m=\u001b[0m\u001b[0mright_index\u001b[0m\u001b[1;33m,\u001b[0m \u001b[0msort\u001b[0m\u001b[1;33m=\u001b[0m\u001b[0msort\u001b[0m\u001b[1;33m,\u001b[0m \u001b[0msuffixes\u001b[0m\u001b[1;33m=\u001b[0m\u001b[0msuffixes\u001b[0m\u001b[1;33m,\u001b[0m\u001b[1;33m\u001b[0m\u001b[0m\n\u001b[0;32m     59\u001b[0m                          \u001b[0mcopy\u001b[0m\u001b[1;33m=\u001b[0m\u001b[0mcopy\u001b[0m\u001b[1;33m,\u001b[0m \u001b[0mindicator\u001b[0m\u001b[1;33m=\u001b[0m\u001b[0mindicator\u001b[0m\u001b[1;33m,\u001b[0m\u001b[1;33m\u001b[0m\u001b[0m\n\u001b[1;32m---> 60\u001b[1;33m                          validate=validate)\n\u001b[0m\u001b[0;32m     61\u001b[0m     \u001b[1;32mreturn\u001b[0m \u001b[0mop\u001b[0m\u001b[1;33m.\u001b[0m\u001b[0mget_result\u001b[0m\u001b[1;33m(\u001b[0m\u001b[1;33m)\u001b[0m\u001b[1;33m\u001b[0m\u001b[0m\n\u001b[0;32m     62\u001b[0m \u001b[1;33m\u001b[0m\u001b[0m\n",
      "\u001b[1;32mC:\\Users\\wpearce\\AppData\\Local\\Continuum\\anaconda3\\lib\\site-packages\\pandas\\core\\reshape\\merge.py\u001b[0m in \u001b[0;36m__init__\u001b[1;34m(self, left, right, how, on, left_on, right_on, axis, left_index, right_index, sort, suffixes, copy, indicator, validate)\u001b[0m\n\u001b[0;32m    524\u001b[0m         \u001b[1;32mif\u001b[0m \u001b[1;32mnot\u001b[0m \u001b[0misinstance\u001b[0m\u001b[1;33m(\u001b[0m\u001b[0mright\u001b[0m\u001b[1;33m,\u001b[0m \u001b[0mDataFrame\u001b[0m\u001b[1;33m)\u001b[0m\u001b[1;33m:\u001b[0m\u001b[1;33m\u001b[0m\u001b[0m\n\u001b[0;32m    525\u001b[0m             raise ValueError('can not merge DataFrame with instance of '\n\u001b[1;32m--> 526\u001b[1;33m                              'type {right}'.format(right=type(right)))\n\u001b[0m\u001b[0;32m    527\u001b[0m \u001b[1;33m\u001b[0m\u001b[0m\n\u001b[0;32m    528\u001b[0m         \u001b[1;32mif\u001b[0m \u001b[1;32mnot\u001b[0m \u001b[0mis_bool\u001b[0m\u001b[1;33m(\u001b[0m\u001b[0mleft_index\u001b[0m\u001b[1;33m)\u001b[0m\u001b[1;33m:\u001b[0m\u001b[1;33m\u001b[0m\u001b[0m\n",
      "\u001b[1;31mValueError\u001b[0m: can not merge DataFrame with instance of type <class 'pandas.core.series.Series'>"
     ]
    }
   ],
   "source": [
    "# Merge with stock returns tHIS IS WHERE I AM UNABLE TO COMBINE ALL OF THE DATA INTO ONE DATAFRAME\n",
    "combo_df = pd.merge(px_data, GDP_pctchange)"
   ]
  },
  {
   "cell_type": "code",
   "execution_count": 43,
   "metadata": {},
   "outputs": [],
   "source": [
    "import quandl\n",
    "\n",
    "df = quandl.get(\"CHRIS/CBOE_VX1\",start_date=\"2015-01-01\", end_date=\"2018-10-26\", authtoken=\"GNBMgJdzyiQFueqM6pzC\")\n",
    "vix_data = pd.DataFrame(df)"
   ]
  },
  {
   "cell_type": "code",
   "execution_count": 44,
   "metadata": {},
   "outputs": [
    {
     "data": {
      "text/html": [
       "<div>\n",
       "<style scoped>\n",
       "    .dataframe tbody tr th:only-of-type {\n",
       "        vertical-align: middle;\n",
       "    }\n",
       "\n",
       "    .dataframe tbody tr th {\n",
       "        vertical-align: top;\n",
       "    }\n",
       "\n",
       "    .dataframe thead th {\n",
       "        text-align: right;\n",
       "    }\n",
       "</style>\n",
       "<table border=\"1\" class=\"dataframe\">\n",
       "  <thead>\n",
       "    <tr style=\"text-align: right;\">\n",
       "      <th></th>\n",
       "      <th>Open</th>\n",
       "      <th>High</th>\n",
       "      <th>Low</th>\n",
       "      <th>Close</th>\n",
       "      <th>Settle</th>\n",
       "      <th>Change</th>\n",
       "      <th>Total Volume</th>\n",
       "      <th>EFP</th>\n",
       "      <th>Prev. Day Open Interest</th>\n",
       "    </tr>\n",
       "    <tr>\n",
       "      <th>Trade Date</th>\n",
       "      <th></th>\n",
       "      <th></th>\n",
       "      <th></th>\n",
       "      <th></th>\n",
       "      <th></th>\n",
       "      <th></th>\n",
       "      <th></th>\n",
       "      <th></th>\n",
       "      <th></th>\n",
       "    </tr>\n",
       "  </thead>\n",
       "  <tbody>\n",
       "    <tr>\n",
       "      <th>2018-10-22</th>\n",
       "      <td>18.75</td>\n",
       "      <td>19.36</td>\n",
       "      <td>18.05</td>\n",
       "      <td>18.62</td>\n",
       "      <td>18.625</td>\n",
       "      <td>0.20</td>\n",
       "      <td>146937.0</td>\n",
       "      <td>3012.0</td>\n",
       "      <td>208553.0</td>\n",
       "    </tr>\n",
       "    <tr>\n",
       "      <th>2018-10-23</th>\n",
       "      <td>18.65</td>\n",
       "      <td>20.83</td>\n",
       "      <td>18.60</td>\n",
       "      <td>18.90</td>\n",
       "      <td>18.825</td>\n",
       "      <td>0.20</td>\n",
       "      <td>252351.0</td>\n",
       "      <td>2545.0</td>\n",
       "      <td>213167.0</td>\n",
       "    </tr>\n",
       "    <tr>\n",
       "      <th>2018-10-24</th>\n",
       "      <td>18.90</td>\n",
       "      <td>21.35</td>\n",
       "      <td>18.75</td>\n",
       "      <td>20.37</td>\n",
       "      <td>20.625</td>\n",
       "      <td>1.80</td>\n",
       "      <td>242752.0</td>\n",
       "      <td>1424.0</td>\n",
       "      <td>213758.0</td>\n",
       "    </tr>\n",
       "    <tr>\n",
       "      <th>2018-10-25</th>\n",
       "      <td>20.50</td>\n",
       "      <td>21.35</td>\n",
       "      <td>19.96</td>\n",
       "      <td>21.06</td>\n",
       "      <td>20.925</td>\n",
       "      <td>0.30</td>\n",
       "      <td>199238.0</td>\n",
       "      <td>2131.0</td>\n",
       "      <td>205847.0</td>\n",
       "    </tr>\n",
       "    <tr>\n",
       "      <th>2018-10-26</th>\n",
       "      <td>21.10</td>\n",
       "      <td>22.65</td>\n",
       "      <td>20.86</td>\n",
       "      <td>21.30</td>\n",
       "      <td>21.075</td>\n",
       "      <td>0.15</td>\n",
       "      <td>283965.0</td>\n",
       "      <td>2405.0</td>\n",
       "      <td>199508.0</td>\n",
       "    </tr>\n",
       "  </tbody>\n",
       "</table>\n",
       "</div>"
      ],
      "text/plain": [
       "             Open   High    Low  Close  Settle  Change  Total Volume     EFP  \\\n",
       "Trade Date                                                                     \n",
       "2018-10-22  18.75  19.36  18.05  18.62  18.625    0.20      146937.0  3012.0   \n",
       "2018-10-23  18.65  20.83  18.60  18.90  18.825    0.20      252351.0  2545.0   \n",
       "2018-10-24  18.90  21.35  18.75  20.37  20.625    1.80      242752.0  1424.0   \n",
       "2018-10-25  20.50  21.35  19.96  21.06  20.925    0.30      199238.0  2131.0   \n",
       "2018-10-26  21.10  22.65  20.86  21.30  21.075    0.15      283965.0  2405.0   \n",
       "\n",
       "            Prev. Day Open Interest  \n",
       "Trade Date                           \n",
       "2018-10-22                 208553.0  \n",
       "2018-10-23                 213167.0  \n",
       "2018-10-24                 213758.0  \n",
       "2018-10-25                 205847.0  \n",
       "2018-10-26                 199508.0  "
      ]
     },
     "execution_count": 44,
     "metadata": {},
     "output_type": "execute_result"
    }
   ],
   "source": [
    "vix_data.tail()"
   ]
  },
  {
   "cell_type": "code",
   "execution_count": 45,
   "metadata": {},
   "outputs": [
    {
     "data": {
      "text/html": [
       "<div>\n",
       "<style scoped>\n",
       "    .dataframe tbody tr th:only-of-type {\n",
       "        vertical-align: middle;\n",
       "    }\n",
       "\n",
       "    .dataframe tbody tr th {\n",
       "        vertical-align: top;\n",
       "    }\n",
       "\n",
       "    .dataframe thead th {\n",
       "        text-align: right;\n",
       "    }\n",
       "</style>\n",
       "<table border=\"1\" class=\"dataframe\">\n",
       "  <thead>\n",
       "    <tr style=\"text-align: right;\">\n",
       "      <th></th>\n",
       "      <th>Open</th>\n",
       "      <th>High</th>\n",
       "      <th>Low</th>\n",
       "      <th>Close</th>\n",
       "      <th>Settle</th>\n",
       "      <th>Change</th>\n",
       "      <th>Total Volume</th>\n",
       "      <th>EFP</th>\n",
       "      <th>Prev. Day Open Interest</th>\n",
       "    </tr>\n",
       "    <tr>\n",
       "      <th>Trade Date</th>\n",
       "      <th></th>\n",
       "      <th></th>\n",
       "      <th></th>\n",
       "      <th></th>\n",
       "      <th></th>\n",
       "      <th></th>\n",
       "      <th></th>\n",
       "      <th></th>\n",
       "      <th></th>\n",
       "    </tr>\n",
       "  </thead>\n",
       "  <tbody>\n",
       "    <tr>\n",
       "      <th>2015-01-02</th>\n",
       "      <td>17.85</td>\n",
       "      <td>18.90</td>\n",
       "      <td>17.07</td>\n",
       "      <td>17.85</td>\n",
       "      <td>17.825</td>\n",
       "      <td>-0.20</td>\n",
       "      <td>111324.0</td>\n",
       "      <td>0.0</td>\n",
       "      <td>111105.0</td>\n",
       "    </tr>\n",
       "    <tr>\n",
       "      <th>2015-01-05</th>\n",
       "      <td>17.85</td>\n",
       "      <td>19.55</td>\n",
       "      <td>17.55</td>\n",
       "      <td>19.11</td>\n",
       "      <td>19.125</td>\n",
       "      <td>1.30</td>\n",
       "      <td>115804.0</td>\n",
       "      <td>0.0</td>\n",
       "      <td>104245.0</td>\n",
       "    </tr>\n",
       "    <tr>\n",
       "      <th>2015-01-06</th>\n",
       "      <td>19.05</td>\n",
       "      <td>20.55</td>\n",
       "      <td>18.70</td>\n",
       "      <td>19.85</td>\n",
       "      <td>19.875</td>\n",
       "      <td>0.75</td>\n",
       "      <td>139001.0</td>\n",
       "      <td>0.0</td>\n",
       "      <td>97339.0</td>\n",
       "    </tr>\n",
       "    <tr>\n",
       "      <th>2015-01-07</th>\n",
       "      <td>19.80</td>\n",
       "      <td>19.80</td>\n",
       "      <td>18.64</td>\n",
       "      <td>18.83</td>\n",
       "      <td>18.850</td>\n",
       "      <td>-1.02</td>\n",
       "      <td>97060.0</td>\n",
       "      <td>0.0</td>\n",
       "      <td>94806.0</td>\n",
       "    </tr>\n",
       "    <tr>\n",
       "      <th>2015-01-08</th>\n",
       "      <td>18.90</td>\n",
       "      <td>18.90</td>\n",
       "      <td>17.50</td>\n",
       "      <td>17.70</td>\n",
       "      <td>17.675</td>\n",
       "      <td>-1.18</td>\n",
       "      <td>86495.0</td>\n",
       "      <td>0.0</td>\n",
       "      <td>89742.0</td>\n",
       "    </tr>\n",
       "  </tbody>\n",
       "</table>\n",
       "</div>"
      ],
      "text/plain": [
       "             Open   High    Low  Close  Settle  Change  Total Volume  EFP  \\\n",
       "Trade Date                                                                  \n",
       "2015-01-02  17.85  18.90  17.07  17.85  17.825   -0.20      111324.0  0.0   \n",
       "2015-01-05  17.85  19.55  17.55  19.11  19.125    1.30      115804.0  0.0   \n",
       "2015-01-06  19.05  20.55  18.70  19.85  19.875    0.75      139001.0  0.0   \n",
       "2015-01-07  19.80  19.80  18.64  18.83  18.850   -1.02       97060.0  0.0   \n",
       "2015-01-08  18.90  18.90  17.50  17.70  17.675   -1.18       86495.0  0.0   \n",
       "\n",
       "            Prev. Day Open Interest  \n",
       "Trade Date                           \n",
       "2015-01-02                 111105.0  \n",
       "2015-01-05                 104245.0  \n",
       "2015-01-06                  97339.0  \n",
       "2015-01-07                  94806.0  \n",
       "2015-01-08                  89742.0  "
      ]
     },
     "execution_count": 45,
     "metadata": {},
     "output_type": "execute_result"
    }
   ],
   "source": [
    "vix_data.head()"
   ]
  },
  {
   "cell_type": "code",
   "execution_count": 46,
   "metadata": {},
   "outputs": [
    {
     "data": {
      "text/html": [
       "<div>\n",
       "<style scoped>\n",
       "    .dataframe tbody tr th:only-of-type {\n",
       "        vertical-align: middle;\n",
       "    }\n",
       "\n",
       "    .dataframe tbody tr th {\n",
       "        vertical-align: top;\n",
       "    }\n",
       "\n",
       "    .dataframe thead th {\n",
       "        text-align: right;\n",
       "    }\n",
       "</style>\n",
       "<table border=\"1\" class=\"dataframe\">\n",
       "  <thead>\n",
       "    <tr style=\"text-align: right;\">\n",
       "      <th></th>\n",
       "      <th>Open</th>\n",
       "      <th>High</th>\n",
       "      <th>Low</th>\n",
       "      <th>Close</th>\n",
       "      <th>Settle</th>\n",
       "      <th>Change</th>\n",
       "      <th>Total Volume</th>\n",
       "      <th>EFP</th>\n",
       "      <th>Prev. Day Open Interest</th>\n",
       "    </tr>\n",
       "  </thead>\n",
       "  <tbody>\n",
       "    <tr>\n",
       "      <th>count</th>\n",
       "      <td>957.000000</td>\n",
       "      <td>957.000000</td>\n",
       "      <td>957.000000</td>\n",
       "      <td>957.000000</td>\n",
       "      <td>957.000000</td>\n",
       "      <td>957.000000</td>\n",
       "      <td>957.000000</td>\n",
       "      <td>957.000000</td>\n",
       "      <td>957.000000</td>\n",
       "    </tr>\n",
       "    <tr>\n",
       "      <th>mean</th>\n",
       "      <td>15.489572</td>\n",
       "      <td>16.205475</td>\n",
       "      <td>15.014838</td>\n",
       "      <td>15.449467</td>\n",
       "      <td>15.512576</td>\n",
       "      <td>-0.024462</td>\n",
       "      <td>115029.009404</td>\n",
       "      <td>310.043887</td>\n",
       "      <td>160966.272727</td>\n",
       "    </tr>\n",
       "    <tr>\n",
       "      <th>std</th>\n",
       "      <td>3.619912</td>\n",
       "      <td>3.891636</td>\n",
       "      <td>3.166866</td>\n",
       "      <td>3.678383</td>\n",
       "      <td>3.546095</td>\n",
       "      <td>1.203750</td>\n",
       "      <td>58211.414118</td>\n",
       "      <td>1094.243030</td>\n",
       "      <td>77457.011749</td>\n",
       "    </tr>\n",
       "    <tr>\n",
       "      <th>min</th>\n",
       "      <td>0.000000</td>\n",
       "      <td>10.000000</td>\n",
       "      <td>9.600000</td>\n",
       "      <td>0.000000</td>\n",
       "      <td>9.875000</td>\n",
       "      <td>-9.350000</td>\n",
       "      <td>0.000000</td>\n",
       "      <td>0.000000</td>\n",
       "      <td>0.000000</td>\n",
       "    </tr>\n",
       "    <tr>\n",
       "      <th>25%</th>\n",
       "      <td>13.000000</td>\n",
       "      <td>13.450000</td>\n",
       "      <td>12.700000</td>\n",
       "      <td>12.930000</td>\n",
       "      <td>12.925000</td>\n",
       "      <td>-0.450000</td>\n",
       "      <td>83033.000000</td>\n",
       "      <td>0.000000</td>\n",
       "      <td>102999.000000</td>\n",
       "    </tr>\n",
       "    <tr>\n",
       "      <th>50%</th>\n",
       "      <td>14.850000</td>\n",
       "      <td>15.400000</td>\n",
       "      <td>14.480000</td>\n",
       "      <td>14.800000</td>\n",
       "      <td>14.825000</td>\n",
       "      <td>-0.100000</td>\n",
       "      <td>102409.000000</td>\n",
       "      <td>0.000000</td>\n",
       "      <td>155159.000000</td>\n",
       "    </tr>\n",
       "    <tr>\n",
       "      <th>75%</th>\n",
       "      <td>17.250000</td>\n",
       "      <td>18.050000</td>\n",
       "      <td>16.510000</td>\n",
       "      <td>17.130000</td>\n",
       "      <td>17.225000</td>\n",
       "      <td>0.250000</td>\n",
       "      <td>130431.000000</td>\n",
       "      <td>140.000000</td>\n",
       "      <td>216141.000000</td>\n",
       "    </tr>\n",
       "    <tr>\n",
       "      <th>max</th>\n",
       "      <td>31.750000</td>\n",
       "      <td>33.350000</td>\n",
       "      <td>26.490000</td>\n",
       "      <td>33.200000</td>\n",
       "      <td>33.225000</td>\n",
       "      <td>17.600000</td>\n",
       "      <td>567407.000000</td>\n",
       "      <td>17669.000000</td>\n",
       "      <td>376684.000000</td>\n",
       "    </tr>\n",
       "  </tbody>\n",
       "</table>\n",
       "</div>"
      ],
      "text/plain": [
       "             Open        High         Low       Close      Settle      Change  \\\n",
       "count  957.000000  957.000000  957.000000  957.000000  957.000000  957.000000   \n",
       "mean    15.489572   16.205475   15.014838   15.449467   15.512576   -0.024462   \n",
       "std      3.619912    3.891636    3.166866    3.678383    3.546095    1.203750   \n",
       "min      0.000000   10.000000    9.600000    0.000000    9.875000   -9.350000   \n",
       "25%     13.000000   13.450000   12.700000   12.930000   12.925000   -0.450000   \n",
       "50%     14.850000   15.400000   14.480000   14.800000   14.825000   -0.100000   \n",
       "75%     17.250000   18.050000   16.510000   17.130000   17.225000    0.250000   \n",
       "max     31.750000   33.350000   26.490000   33.200000   33.225000   17.600000   \n",
       "\n",
       "        Total Volume           EFP  Prev. Day Open Interest  \n",
       "count     957.000000    957.000000               957.000000  \n",
       "mean   115029.009404    310.043887            160966.272727  \n",
       "std     58211.414118   1094.243030             77457.011749  \n",
       "min         0.000000      0.000000                 0.000000  \n",
       "25%     83033.000000      0.000000            102999.000000  \n",
       "50%    102409.000000      0.000000            155159.000000  \n",
       "75%    130431.000000    140.000000            216141.000000  \n",
       "max    567407.000000  17669.000000            376684.000000  "
      ]
     },
     "execution_count": 46,
     "metadata": {},
     "output_type": "execute_result"
    }
   ],
   "source": [
    "vix_data.describe()"
   ]
  },
  {
   "cell_type": "code",
   "execution_count": 50,
   "metadata": {},
   "outputs": [
    {
     "data": {
      "image/png": "[encoded data removed]",
      "text/plain": [
       "<Figure size 432x288 with 9 Axes>"
      ]
     },
     "metadata": {},
     "output_type": "display_data"
    }
   ],
   "source": [
    "axes = vix_data.hist();"
   ]
  },
  {
   "cell_type": "code",
   "execution_count": 54,
   "metadata": {},
   "outputs": [
    {
     "data": {
      "image/png": "[encoded data removed]",
      "text/plain": [
       "<Figure size 432x288 with 1 Axes>"
      ]
     },
     "metadata": {},
     "output_type": "display_data"
    }
   ],
   "source": [
    "axe = vix_data.loc[:,'Close'].plot()"
   ]
  },
  {
   "cell_type": "code",
   "execution_count": 63,
   "metadata": {},
   "outputs": [
    {
     "data": {
      "text/plain": [
       "Open                       0\n",
       "High                       0\n",
       "Low                        0\n",
       "Close                      0\n",
       "Settle                     0\n",
       "Change                     0\n",
       "Total Volume               0\n",
       "EFP                        0\n",
       "Prev. Day Open Interest    0\n",
       "dtype: int64"
      ]
     },
     "execution_count": 63,
     "metadata": {},
     "output_type": "execute_result"
    }
   ],
   "source": [
    "vix_data.isnull().sum()"
   ]
  },
  {
   "cell_type": "code",
   "execution_count": null,
   "metadata": {},
   "outputs": [],
   "source": []
  },
  {
   "cell_type": "markdown",
   "metadata": {},
   "source": [
    "Please ignore the below this is advance work for the next project deliverable"
   ]
  },
  {
   "cell_type": "code",
   "execution_count": 57,
   "metadata": {},
   "outputs": [],
   "source": [
    "forecast_out = int(30) # predicting 30 days into future\n",
    "px_data['Prediction'] = px_data[['close']].shift(-forecast_out) #  label column with data shifted 30 units up"
   ]
  },
  {
   "cell_type": "code",
   "execution_count": 58,
   "metadata": {},
   "outputs": [],
   "source": [
    "X = np.array(px_data.drop(['Prediction'], 1))\n",
    "X = preprocessing.scale(X)"
   ]
  },
  {
   "cell_type": "code",
   "execution_count": 59,
   "metadata": {},
   "outputs": [],
   "source": [
    "X_forecast = X[-forecast_out:] # set X_forecast equal to last 30\n",
    "X = X[:-forecast_out] # remove last 30 from X"
   ]
  },
  {
   "cell_type": "code",
   "execution_count": 60,
   "metadata": {},
   "outputs": [],
   "source": [
    "y = np.array(px_data['Prediction'])\n",
    "y = y[:-forecast_out]"
   ]
  },
  {
   "cell_type": "code",
   "execution_count": 61,
   "metadata": {},
   "outputs": [],
   "source": [
    "X_train, X_test, y_train, y_test = train_test_split(X, y, test_size = 0.2)"
   ]
  },
  {
   "cell_type": "code",
   "execution_count": 62,
   "metadata": {},
   "outputs": [
    {
     "name": "stdout",
     "output_type": "stream",
     "text": [
      "confidence:  0.957160693133158\n"
     ]
    }
   ],
   "source": [
    "clf = LinearRegression()\n",
    "clf.fit(X_train,y_train)\n",
    "# Testing\n",
    "confidence = clf.score(X_test, y_test)\n",
    "print(\"confidence: \", confidence)"
   ]
  },
  {
   "cell_type": "code",
   "execution_count": 63,
   "metadata": {},
   "outputs": [
    {
     "name": "stdout",
     "output_type": "stream",
     "text": [
      "[290.70557726 291.05990641 291.77624617 294.43345729 294.54512552\n",
      " 293.27723306 292.98394456 291.96374381 292.31108186 292.43346377\n",
      " 293.7787419  293.37781163 293.96934141 292.71874236 290.90868785\n",
      " 290.19584466 289.32142598 283.69756907 277.04082501 280.35300948\n",
      " 277.12077766 281.90599644 283.75585416 280.28501649 278.94441947\n",
      " 278.36148671 276.09333439 270.86295964 272.15279077 268.17923768]\n"
     ]
    }
   ],
   "source": [
    "forecast_prediction = clf.predict(X_forecast)\n",
    "print(forecast_prediction)"
   ]
  },
  {
   "cell_type": "code",
   "execution_count": 64,
   "metadata": {},
   "outputs": [
    {
     "data": {
      "text/html": [
       "<div>\n",
       "<style scoped>\n",
       "    .dataframe tbody tr th:only-of-type {\n",
       "        vertical-align: middle;\n",
       "    }\n",
       "\n",
       "    .dataframe tbody tr th {\n",
       "        vertical-align: top;\n",
       "    }\n",
       "\n",
       "    .dataframe thead th {\n",
       "        text-align: right;\n",
       "    }\n",
       "</style>\n",
       "<table border=\"1\" class=\"dataframe\">\n",
       "  <thead>\n",
       "    <tr style=\"text-align: right;\">\n",
       "      <th></th>\n",
       "      <th>open</th>\n",
       "      <th>high</th>\n",
       "      <th>low</th>\n",
       "      <th>close</th>\n",
       "      <th>volume</th>\n",
       "      <th>Prediction</th>\n",
       "    </tr>\n",
       "    <tr>\n",
       "      <th>date</th>\n",
       "      <th></th>\n",
       "      <th></th>\n",
       "      <th></th>\n",
       "      <th></th>\n",
       "      <th></th>\n",
       "      <th></th>\n",
       "    </tr>\n",
       "  </thead>\n",
       "  <tbody>\n",
       "    <tr>\n",
       "      <th>2016-01-04</th>\n",
       "      <td>190.0571</td>\n",
       "      <td>190.5690</td>\n",
       "      <td>188.2560</td>\n",
       "      <td>190.5588</td>\n",
       "      <td>222353534</td>\n",
       "      <td>182.8431</td>\n",
       "    </tr>\n",
       "    <tr>\n",
       "      <th>2016-01-05</th>\n",
       "      <td>190.9197</td>\n",
       "      <td>191.3937</td>\n",
       "      <td>189.6400</td>\n",
       "      <td>190.8818</td>\n",
       "      <td>110845849</td>\n",
       "      <td>182.0942</td>\n",
       "    </tr>\n",
       "    <tr>\n",
       "      <th>2016-01-06</th>\n",
       "      <td>188.0190</td>\n",
       "      <td>189.6495</td>\n",
       "      <td>187.3175</td>\n",
       "      <td>188.4740</td>\n",
       "      <td>152112604</td>\n",
       "      <td>182.0089</td>\n",
       "    </tr>\n",
       "    <tr>\n",
       "      <th>2016-01-07</th>\n",
       "      <td>185.1656</td>\n",
       "      <td>187.1658</td>\n",
       "      <td>183.5161</td>\n",
       "      <td>183.9522</td>\n",
       "      <td>213436073</td>\n",
       "      <td>184.6442</td>\n",
       "    </tr>\n",
       "    <tr>\n",
       "      <th>2016-01-08</th>\n",
       "      <td>185.0329</td>\n",
       "      <td>185.6585</td>\n",
       "      <td>181.6107</td>\n",
       "      <td>181.9359</td>\n",
       "      <td>209817228</td>\n",
       "      <td>182.3122</td>\n",
       "    </tr>\n",
       "  </tbody>\n",
       "</table>\n",
       "</div>"
      ],
      "text/plain": [
       "                open      high       low     close     volume  Prediction\n",
       "date                                                                     \n",
       "2016-01-04  190.0571  190.5690  188.2560  190.5588  222353534    182.8431\n",
       "2016-01-05  190.9197  191.3937  189.6400  190.8818  110845849    182.0942\n",
       "2016-01-06  188.0190  189.6495  187.3175  188.4740  152112604    182.0089\n",
       "2016-01-07  185.1656  187.1658  183.5161  183.9522  213436073    184.6442\n",
       "2016-01-08  185.0329  185.6585  181.6107  181.9359  209817228    182.3122"
      ]
     },
     "execution_count": 64,
     "metadata": {},
     "output_type": "execute_result"
    }
   ],
   "source": [
    "px_data.head()"
   ]
  },
  {
   "cell_type": "code",
   "execution_count": 65,
   "metadata": {},
   "outputs": [
    {
     "data": {
      "image/png": "[encoded data removed]",
      "text/plain": [
       "<Figure size 432x288 with 1 Axes>"
      ]
     },
     "metadata": {},
     "output_type": "display_data"
    }
   ],
   "source": [
    "px_data.plot('Prediction');"
   ]
  },
  {
   "cell_type": "code",
   "execution_count": null,
   "metadata": {},
   "outputs": [],
   "source": []
  },
  {
   "cell_type": "code",
   "execution_count": null,
   "metadata": {},
   "outputs": [],
   "source": []
  },
  {
   "cell_type": "code",
   "execution_count": null,
   "metadata": {},
   "outputs": [],
   "source": []
  },
  {
   "cell_type": "code",
   "execution_count": null,
   "metadata": {},
   "outputs": [],
   "source": []
  },
  {
   "cell_type": "code",
   "execution_count": null,
   "metadata": {},
   "outputs": [],
   "source": []
  },
  {
   "cell_type": "code",
   "execution_count": null,
   "metadata": {},
   "outputs": [],
   "source": []
  }
 ],
 "metadata": {
  "kernelspec": {
   "display_name": "Python 3",
   "language": "python",
   "name": "python3"
  },
  "language_info": {
   "codemirror_mode": {
    "name": "ipython",
    "version": 3
   },
   "file_extension": ".py",
   "mimetype": "text/x-python",
   "name": "python",
   "nbconvert_exporter": "python",
   "pygments_lexer": "ipython3",
   "version": "3.6.5"
  }
 },
 "nbformat": 4,
 "nbformat_minor": 2
}
